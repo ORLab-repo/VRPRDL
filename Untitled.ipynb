{
 "cells": [
  {
   "cell_type": "code",
   "execution_count": 60,
   "metadata": {},
   "outputs": [],
   "source": [
    "import os\n",
    "import sys\n",
    "import re"
   ]
  },
  {
   "cell_type": "code",
   "execution_count": 61,
   "metadata": {},
   "outputs": [],
   "source": [
    "cur_dir = \".\\\\VRPRDL-solution\""
   ]
  },
  {
   "cell_type": "code",
   "execution_count": 62,
   "metadata": {},
   "outputs": [
    {
     "name": "stdout",
     "output_type": "stream",
     "text": [
      "12.23\n"
     ]
    }
   ],
   "source": [
    "test = \"asddd  asdsa  123.123s\"\n",
    "testLs = re.findall(\"\\d+\\.\\d+\", test)\n",
    "test_num = 12.23324\n",
    "print(f\"{test_num:.2f}\")"
   ]
  },
  {
   "cell_type": "code",
   "execution_count": 63,
   "metadata": {},
   "outputs": [],
   "source": [
    "def get_info(file):\n",
    "    best_sol = None\n",
    "    num_time = 0\n",
    "    total_time = 0\n",
    "    for line in file:\n",
    "        if(\"elapsed time\" in line):\n",
    "            num_time += 1\n",
    "            time = re.findall(\"\\d+\\.\\d+\", line)\n",
    "            if(len(time) == 0):\n",
    "                time = re.findall(\"\\d+\", line)\n",
    "            total_time += eval(time[0])\n",
    "        if(\"best run\" in line):\n",
    "            sol = re.findall(\"\\d+\", line)\n",
    "            best_sol = eval(sol[0])\n",
    "    assert(num_time == 5)\n",
    "    assert(best_sol is not None)    \n",
    "    print(f\"{best_sol} {total_time/num_time:.2f}\")    "
   ]
  },
  {
   "cell_type": "code",
   "execution_count": 64,
   "metadata": {},
   "outputs": [
    {
     "name": "stdout",
     "output_type": "stream",
     "text": [
      "4935 5827.83\n",
      "5258 6141.79\n",
      "5061 6154.63\n",
      "5218 6449.43\n",
      "5498 6054.01\n",
      "6498 7102.32\n",
      "4864 5675.41\n",
      "5604 5613.08\n",
      "5867 6848.65\n",
      "4997 6354.52\n"
     ]
    }
   ],
   "source": [
    "#normal instance:\n",
    "for id in range(30, 40):\n",
    "    file = open(os.path.join(cur_dir, f\"sol_{id}.txt\"), \"r\")\n",
    "    get_info(file)\n",
    "    file.close()"
   ]
  },
  {
   "cell_type": "code",
   "execution_count": 65,
   "metadata": {},
   "outputs": [
    {
     "name": "stdout",
     "output_type": "stream",
     "text": [
      "3203 664.90\n",
      "2799 690.22\n",
      "2603 799.30\n",
      "2261 685.40\n",
      "3217 677.77\n",
      "2805 675.41\n",
      "3339 703.19\n",
      "3325 635.51\n",
      "3534 625.01\n",
      "2752 734.63\n"
     ]
    }
   ],
   "source": [
    "#medium size v1:\n",
    "for id in range(41, 51):\n",
    "    file = open(os.path.join(cur_dir, f\"sol_{id}-v1.txt\"), \"r\")\n",
    "    get_info(file)\n",
    "    file.close()"
   ]
  },
  {
   "cell_type": "code",
   "execution_count": 66,
   "metadata": {},
   "outputs": [
    {
     "name": "stdout",
     "output_type": "stream",
     "text": [
      "2133 726.25\n",
      "1946 744.63\n",
      "1966 791.96\n",
      "1610 736.20\n",
      "2478 740.60\n",
      "2469 735.03\n",
      "1946 760.57\n",
      "2380 703.42\n",
      "2492 728.02\n",
      "2443 777.01\n"
     ]
    }
   ],
   "source": [
    "#medium size v2:\n",
    "for id in range(41, 51):\n",
    "    file = open(os.path.join(cur_dir, f\"sol_{id}-v2.txt\"), \"r\")\n",
    "    get_info(file)\n",
    "    file.close()"
   ]
  },
  {
   "cell_type": "code",
   "execution_count": null,
   "metadata": {},
   "outputs": [],
   "source": []
  }
 ],
 "metadata": {
  "kernelspec": {
   "display_name": "Python 3",
   "language": "python",
   "name": "python3"
  },
  "language_info": {
   "codemirror_mode": {
    "name": "ipython",
    "version": 3
   },
   "file_extension": ".py",
   "mimetype": "text/x-python",
   "name": "python",
   "nbconvert_exporter": "python",
   "pygments_lexer": "ipython3",
   "version": "3.7.9"
  }
 },
 "nbformat": 4,
 "nbformat_minor": 4
}
